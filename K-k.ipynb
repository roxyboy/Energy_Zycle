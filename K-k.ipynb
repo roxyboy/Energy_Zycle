{
 "cells": [
  {
   "cell_type": "code",
   "execution_count": null,
   "id": "ee5b82bc-57f2-4161-afd8-b4c0f5b5acc5",
   "metadata": {},
   "outputs": [],
   "source": [
    "from dask.distributed import Client\n",
    "\n",
    "client = Client(\"tcp://127.0.0.1:46063\")\n",
    "client"
   ]
  },
  {
   "cell_type": "code",
   "execution_count": 2,
   "id": "5cc0e398-964c-4ebc-bcc3-c385f566417b",
   "metadata": {},
   "outputs": [],
   "source": [
    "import numpy as np\n",
    "import xarray as xr\n",
    "import pandas as pd\n",
    "import os.path as op\n",
    "import os\n",
    "import gsw\n",
    "from xgcm.grid import Grid\n",
    "from xmitgcm import open_mdsdataset\n",
    "from fastjmd95 import rho as densjmd95\n",
    "import matplotlib.pyplot as plt\n",
    "%matplotlib inline"
   ]
  },
  {
   "cell_type": "code",
   "execution_count": 3,
   "id": "8bcb87e5-40b2-4ab5-8963-b4f3c8a5b945",
   "metadata": {},
   "outputs": [],
   "source": [
    "ddir = '/tank/chaocean/qjamet/RUNS/ORAR/reruns2/'\n",
    "gdir = '/tank/chaocean/grid_chaO/gridMIT_update1/'\n",
    "chaos = '/tank/chaocean/tuchida/'\n",
    "# savedir = '/tank/chaocean/tuchida/ECycle/'\n",
    "savedir = '/tank/spectre/tuchida/chaocean/Snap/'"
   ]
  },
  {
   "cell_type": "code",
   "execution_count": 4,
   "id": "c78c8a23-2eb5-4bf3-9a57-b0b2cd10eacc",
   "metadata": {},
   "outputs": [],
   "source": [
    "grav = 9.81\n",
    "nensembs = 5\n",
    "Kh = 20.\n",
    "K4 = 1e10\n",
    "Kr = 1e-5\n",
    "thetaMax = 1e20\n",
    "rhoConst = 9.998e2\n",
    "# Cp = 3.994e3\n",
    "Cp = 3989.244953\n",
    "# years = np.arange(2008,2013,dtype=int)\n",
    "ySstart = -15\n",
    "yNstart = 15\n",
    "yend = 50\n",
    "dnf = 2160\n",
    "nfile = 73\n",
    "\n",
    "xchunk = 100\n",
    "ychunk = 100\n",
    "\n",
    "nmembs = np.arange(100,148)"
   ]
  },
  {
   "cell_type": "code",
   "execution_count": 5,
   "id": "bdc8ad5e-cdb6-4269-bec2-31a44bd9a475",
   "metadata": {},
   "outputs": [
    {
     "data": {
      "text/plain": [
       "array([1512000, 1514160, 1516320, 1518480, 1520640, 1522800, 1524960,\n",
       "       1527120, 1529280, 1531440, 1533600, 1535760, 1537920, 1540080,\n",
       "       1542240, 1544400, 1546560, 1548720, 1550880, 1553040, 1555200,\n",
       "       1557360, 1559520, 1561680, 1563840, 1566000, 1568160, 1570320,\n",
       "       1572480, 1574640])"
      ]
     },
     "execution_count": 5,
     "metadata": {},
     "output_type": "execute_result"
    }
   ],
   "source": [
    "years = np.arange(1967,1968,dtype=int)\n",
    "ntimes = np.arange(1419120,1576800,dnf).reshape(len(years),nfile)\n",
    "dd = 43  # \n",
    "yystart = 0\n",
    "ntimes[yystart,dd:]"
   ]
  },
  {
   "cell_type": "code",
   "execution_count": 6,
   "id": "8614f5e8-a6a0-466e-a7eb-93c2f73c5398",
   "metadata": {},
   "outputs": [
    {
     "data": {
      "text/plain": [
       "<xgcm.Grid>\n",
       "Z Axis (not periodic, boundary=None):\n",
       "  * center   Z --> left\n",
       "  * outer    Zp1 --> center\n",
       "  * right    Zu --> center\n",
       "  * left     Zl --> center\n",
       "X Axis (periodic, boundary=None):\n",
       "  * center   XC --> left\n",
       "  * left     XG --> center\n",
       "Y Axis (not periodic, boundary=None):\n",
       "  * center   YC --> left\n",
       "  * left     YG --> center\n",
       "T Axis (not periodic, boundary=None):\n",
       "  * center   time"
      ]
     },
     "execution_count": 6,
     "metadata": {},
     "output_type": "execute_result"
    }
   ],
   "source": [
    "dsg = open_mdsdataset(op.join(ddir,'memb%03d/run1967/ocn/' \n",
    "                              % (100)), \n",
    "                      grid_dir=gdir,\n",
    "                      prefix=['snap_diagOcn'], delta_t=2e2,\n",
    "                      iters=ntimes[0,0], \n",
    "                     ).chunk({'YC':ychunk,'YG':ychunk,\n",
    "                              'XC':xchunk,'XG':xchunk})\n",
    "grid = Grid(dsg, periodic=['X'])\n",
    "Vol = (dsg.rA * dsg.drF * dsg.hFacC).where(dsg.maskC!=0.)\n",
    "grid"
   ]
  },
  {
   "cell_type": "code",
   "execution_count": 7,
   "id": "452e986d-a116-4358-9291-a6487bc18c91",
   "metadata": {
    "collapsed": true,
    "jupyter": {
     "outputs_hidden": true
    },
    "tags": []
   },
   "outputs": [
    {
     "name": "stdout",
     "output_type": "stream",
     "text": [
      "1514160\n",
      "1516320\n",
      "1518480\n",
      "1520640\n",
      "1522800\n",
      "1524960\n",
      "1527120\n",
      "1529280\n",
      "1531440\n",
      "1533600\n",
      "1535760\n",
      "1537920\n",
      "1540080\n",
      "1542240\n",
      "1544400\n",
      "1546560\n",
      "1548720\n",
      "1550880\n",
      "1553040\n",
      "1555200\n",
      "1557360\n",
      "1559520\n",
      "1561680\n",
      "1563840\n",
      "1566000\n",
      "1568160\n",
      "1570320\n",
      "1572480\n",
      "1574640\n"
     ]
    }
   ],
   "source": [
    "for itime in ntimes[yystart,dd+1:]:\n",
    "    for nmemb in nmembs:\n",
    "        if nmemb == 100:\n",
    "            ds = open_mdsdataset(op.join(ddir,'memb%03d/run1967/ocn/' \n",
    "                                         % (nmemb)), \n",
    "                                 grid_dir=gdir,\n",
    "                                 prefix=['snap_diagOcn'], delta_t=2e2,\n",
    "                                 iters=itime, \n",
    "                                ).isel(time=0).chunk({'YC':ychunk,'YG':ychunk,\n",
    "                                                      'XC':xchunk,'XG':xchunk})\n",
    "        else:\n",
    "            ds = xr.concat([ds, open_mdsdataset(op.join(ddir,'memb%03d/run1967/ocn/' \n",
    "                                                        % (nmemb)), \n",
    "                                                grid_dir=gdir,\n",
    "                                                prefix=['snap_diagOcn'], delta_t=2e2,\n",
    "                                                iters=itime, \n",
    "                                               ).isel(time=0).chunk({'YC':ychunk,'YG':ychunk,\n",
    "                                                                     'XC':xchunk,'XG':xchunk})\n",
    "                           ], dim='nmemb')\n",
    "\n",
    "    ds.coords['nmemb'] = ('nmemb',nmembs)\n",
    "    grid = Grid(ds, periodic=['X'])\n",
    "    \n",
    "    dsm = open_mdsdataset(op.join(ddir,'ensm/run1967/ocn/'), \n",
    "                          grid_dir=gdir,\n",
    "                          prefix=['snap_diagOcn'], delta_t=2e2,\n",
    "                          iters=itime, \n",
    "                         ).isel(time=0).chunk({'YC':ychunk,'YG':ychunk,\n",
    "                                               'XC':xchunk,'XG':xchunk})\n",
    "    \n",
    "    wp = ds.WVEL - dsm.WVEL\n",
    "    vp = ds.VVEL - dsm.VVEL\n",
    "    up = ds.UVEL - dsm.UVEL\n",
    "    \n",
    "    xA = (ds.dyG * ds.drF * ds.hFacW).reset_coords(drop=True)\n",
    "    yA = (ds.dxG * ds.drF * ds.hFacS).reset_coords(drop=True)\n",
    "\n",
    "    upTrans = up * xA\n",
    "    vpTrans = vp * yA\n",
    "    rpTrans = wp * ds.rA\n",
    "    Auup = (upTrans\n",
    "            * up\n",
    "           )\n",
    "    Avup = (vpTrans\n",
    "            * grid.interp(grid.interp(up,'X'),'Y',boundary='extend')\n",
    "           )\n",
    "    Awup = (rpTrans\n",
    "            * grid.interp(grid.interp(up * ds.hFacW,'X'),\n",
    "                          'Z',boundary='extend')\n",
    "           )\n",
    "    \n",
    "    Gu = ((grid.diff(Auup,'X')\n",
    "           + grid.diff(Avup,'Y',boundary='extend')\n",
    "           - grid.diff(Awup,'Z',boundary='extend')\n",
    "          ) / ds.drF/ds.rA/ds.hFacC\n",
    "         ).where(ds.maskC!=0.).reset_coords(drop=True)\n",
    "    \n",
    "    Auvp = (upTrans\n",
    "            * grid.interp(grid.interp(vp,'X'),'Y',boundary='extend')\n",
    "           )\n",
    "    Avvp = (vpTrans\n",
    "            * vp\n",
    "           )\n",
    "    Awvp = (rpTrans\n",
    "            * grid.interp(grid.interp(vp * ds.hFacS,'Y',boundary='extend'),\n",
    "                          'Z',boundary='extend')\n",
    "           )\n",
    "    \n",
    "    Gv = ((grid.diff(Auvp,'X')\n",
    "           + grid.diff(Avvp,'Y',boundary='extend')\n",
    "           - grid.diff(Awvp,'Z',boundary='extend')\n",
    "          ) / ds.drF/ds.rA/ds.hFacC\n",
    "         ).where(ds.maskC!=0.).reset_coords(drop=True)\n",
    "    \n",
    "    Kk = (grid.interp(dsm.UVEL,'X') * Gu.mean('nmemb')\n",
    "          + grid.interp(dsm.VVEL,'Y',boundary='extend') * Gv.mean('nmemb')\n",
    "         )\n",
    "    \n",
    "    if itime == ntimes[yystart,dd]:\n",
    "        Kk.isel(Z=1).plot(vmax=1e-7)\n",
    "        plt.show()\n",
    "            \n",
    "    dsave = Kk.reset_coords(drop=True).chunk({'Z':4,'YC':ychunk,'XC':xchunk}\n",
    "                                            ).to_dataset(name='Kk')\n",
    "    dsave.to_zarr(op.join(savedir,'%4d/%010d/K-k.zarr' \n",
    "                          % (years[yystart],itime)), \n",
    "                  mode='w')\n",
    "    dsave.close()\n",
    "    ds.close()\n",
    "    dsm.close()\n",
    "    del Gu, Gv, Kk\n",
    "    \n",
    "    print(itime)"
   ]
  },
  {
   "cell_type": "code",
   "execution_count": 8,
   "id": "e8a7a909-d7df-44df-be5a-daa3ff927f53",
   "metadata": {},
   "outputs": [
    {
     "data": {
      "text/plain": [
       "<xarray.backends.zarr.ZarrStore at 0x7fd6356b8350>"
      ]
     },
     "execution_count": 8,
     "metadata": {},
     "output_type": "execute_result"
    }
   ],
   "source": [
    "ymax = 43\n",
    "ymin = 14\n",
    "xmin = 270\n",
    "xmax = 337\n",
    "for itime in ntimes[yystart]:\n",
    "    if itime == ntimes[yystart,0]:\n",
    "        Kk = xr.open_zarr(op.join(savedir,'%4d/%010d/K-k.zarr' \n",
    "                                  % (years[yystart],itime))\n",
    "                         ).Kk\n",
    "    else:\n",
    "        Kk = xr.concat([Kk, xr.open_zarr(op.join(savedir,'%4d/%010d/K-k.zarr' \n",
    "                                  % (years[yystart],itime))\n",
    "                                        ).Kk\n",
    "                       ], 'time')\n",
    "    # print(itime)\n",
    "        \n",
    "((Kk*Vol).sel(\n",
    "           Z=slice(None,None),YC=slice(ymin,ymax),\n",
    "           XC=slice(xmin,xmax)\n",
    "          ).sum(['Z','YC','XC'],skipna=True)\n",
    " / Vol.sel(\n",
    "           Z=slice(None,None),YC=slice(ymin,ymax),\n",
    "           XC=slice(xmin,xmax)\n",
    "          ).sum(['Z','YC','XC'],skipna=True)\n",
    ").reset_coords(drop=True).chunk({'time':-1}\n",
    "                               ).to_dataset(name='Kk').to_zarr(op.join(savedir,\n",
    "                                                '%4d/K-k_VolAve_%2dN-%2dN%3dE-%3dE.zarr' \n",
    "                  % (years[yystart],ymin,ymax,xmin,xmax)), mode='w')"
   ]
  },
  {
   "cell_type": "code",
   "execution_count": null,
   "id": "093beec0-f5e6-4121-b01b-0ddc3919fb7e",
   "metadata": {},
   "outputs": [],
   "source": []
  }
 ],
 "metadata": {
  "kernelspec": {
   "display_name": "Python 3 (ipykernel)",
   "language": "python",
   "name": "python3"
  },
  "language_info": {
   "codemirror_mode": {
    "name": "ipython",
    "version": 3
   },
   "file_extension": ".py",
   "mimetype": "text/x-python",
   "name": "python",
   "nbconvert_exporter": "python",
   "pygments_lexer": "ipython3",
   "version": "3.9.15"
  }
 },
 "nbformat": 4,
 "nbformat_minor": 5
}
